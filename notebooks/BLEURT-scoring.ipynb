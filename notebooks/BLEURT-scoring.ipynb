{
 "cells": [
  {
   "cell_type": "markdown",
   "metadata": {},
   "source": [
    "# BERTScore\n",
    "Using BertScore to score text generation"
   ]
  },
  {
   "cell_type": "code",
   "execution_count": 12,
   "metadata": {},
   "outputs": [
    {
     "name": "stdout",
     "output_type": "stream",
     "text": [
      "Collecting bert_score\n",
      "  Downloading bert_score-0.3.12-py3-none-any.whl (60 kB)\n",
      "     ---------------------------------------- 60.8/60.8 kB 3.2 MB/s eta 0:00:00\n",
      "Requirement already satisfied: pandas>=1.0.1 in c:\\users\\ktrin\\miniconda3\\envs\\tf\\lib\\site-packages (from bert_score) (1.5.0)\n",
      "Requirement already satisfied: packaging>=20.9 in c:\\users\\ktrin\\miniconda3\\envs\\tf\\lib\\site-packages (from bert_score) (21.3)\n",
      "Requirement already satisfied: torch>=1.0.0 in c:\\users\\ktrin\\miniconda3\\envs\\tf\\lib\\site-packages (from bert_score) (1.12.1)\n",
      "Requirement already satisfied: tqdm>=4.31.1 in c:\\users\\ktrin\\miniconda3\\envs\\tf\\lib\\site-packages (from bert_score) (4.64.0)\n",
      "Requirement already satisfied: requests in c:\\users\\ktrin\\miniconda3\\envs\\tf\\lib\\site-packages (from bert_score) (2.28.1)\n",
      "Requirement already satisfied: numpy in c:\\users\\ktrin\\miniconda3\\envs\\tf\\lib\\site-packages (from bert_score) (1.23.2)\n",
      "Requirement already satisfied: matplotlib in c:\\users\\ktrin\\miniconda3\\envs\\tf\\lib\\site-packages (from bert_score) (3.5.2)\n",
      "Requirement already satisfied: transformers>=3.0.0 in c:\\users\\ktrin\\miniconda3\\envs\\tf\\lib\\site-packages (from bert_score) (4.23.0)\n",
      "Requirement already satisfied: pyparsing!=3.0.5,>=2.0.2 in c:\\users\\ktrin\\miniconda3\\envs\\tf\\lib\\site-packages (from packaging>=20.9->bert_score) (3.0.9)\n",
      "Requirement already satisfied: pytz>=2020.1 in c:\\users\\ktrin\\miniconda3\\envs\\tf\\lib\\site-packages (from pandas>=1.0.1->bert_score) (2022.2.1)\n",
      "Requirement already satisfied: python-dateutil>=2.8.1 in c:\\users\\ktrin\\miniconda3\\envs\\tf\\lib\\site-packages (from pandas>=1.0.1->bert_score) (2.8.2)\n",
      "Requirement already satisfied: typing_extensions in c:\\users\\ktrin\\miniconda3\\envs\\tf\\lib\\site-packages (from torch>=1.0.0->bert_score) (4.4.0)\n",
      "Requirement already satisfied: colorama in c:\\users\\ktrin\\miniconda3\\envs\\tf\\lib\\site-packages (from tqdm>=4.31.1->bert_score) (0.4.5)\n",
      "Requirement already satisfied: filelock in c:\\users\\ktrin\\miniconda3\\envs\\tf\\lib\\site-packages (from transformers>=3.0.0->bert_score) (3.8.0)\n",
      "Requirement already satisfied: regex!=2019.12.17 in c:\\users\\ktrin\\miniconda3\\envs\\tf\\lib\\site-packages (from transformers>=3.0.0->bert_score) (2022.9.13)\n",
      "Requirement already satisfied: tokenizers!=0.11.3,<0.14,>=0.11.1 in c:\\users\\ktrin\\miniconda3\\envs\\tf\\lib\\site-packages (from transformers>=3.0.0->bert_score) (0.13.1)\n",
      "Requirement already satisfied: pyyaml>=5.1 in c:\\users\\ktrin\\miniconda3\\envs\\tf\\lib\\site-packages (from transformers>=3.0.0->bert_score) (6.0)\n",
      "Requirement already satisfied: huggingface-hub<1.0,>=0.10.0 in c:\\users\\ktrin\\miniconda3\\envs\\tf\\lib\\site-packages (from transformers>=3.0.0->bert_score) (0.10.0)\n",
      "Requirement already satisfied: kiwisolver>=1.0.1 in c:\\users\\ktrin\\miniconda3\\envs\\tf\\lib\\site-packages (from matplotlib->bert_score) (1.4.4)\n",
      "Requirement already satisfied: fonttools>=4.22.0 in c:\\users\\ktrin\\miniconda3\\envs\\tf\\lib\\site-packages (from matplotlib->bert_score) (4.34.4)\n",
      "Requirement already satisfied: cycler>=0.10 in c:\\users\\ktrin\\miniconda3\\envs\\tf\\lib\\site-packages (from matplotlib->bert_score) (0.11.0)\n",
      "Requirement already satisfied: pillow>=6.2.0 in c:\\users\\ktrin\\miniconda3\\envs\\tf\\lib\\site-packages (from matplotlib->bert_score) (9.2.0)\n",
      "Requirement already satisfied: charset-normalizer<3,>=2 in c:\\users\\ktrin\\miniconda3\\envs\\tf\\lib\\site-packages (from requests->bert_score) (2.1.1)\n",
      "Requirement already satisfied: certifi>=2017.4.17 in c:\\users\\ktrin\\miniconda3\\envs\\tf\\lib\\site-packages (from requests->bert_score) (2022.9.24)\n",
      "Requirement already satisfied: urllib3<1.27,>=1.21.1 in c:\\users\\ktrin\\miniconda3\\envs\\tf\\lib\\site-packages (from requests->bert_score) (1.26.11)\n",
      "Requirement already satisfied: idna<4,>=2.5 in c:\\users\\ktrin\\miniconda3\\envs\\tf\\lib\\site-packages (from requests->bert_score) (3.4)\n",
      "Requirement already satisfied: six>=1.5 in c:\\users\\ktrin\\miniconda3\\envs\\tf\\lib\\site-packages (from python-dateutil>=2.8.1->pandas>=1.0.1->bert_score) (1.16.0)\n",
      "Installing collected packages: bert_score\n",
      "Successfully installed bert_score-0.3.12\n"
     ]
    }
   ],
   "source": [
    "# installing bleurt score\n",
    "!pip install bert_score\n",
    "!pip install git+https://github.com/google-research/bleurt.git@master"
   ]
  },
  {
   "cell_type": "code",
   "execution_count": 13,
   "metadata": {},
   "outputs": [
    {
     "data": {
      "application/vnd.jupyter.widget-view+json": {
       "model_id": "4ecc6bf587b04912981f7cedd769c4e6",
       "version_major": 2,
       "version_minor": 0
      },
      "text/plain": [
       "Downloading:   0%|          | 0.00/482 [00:00<?, ?B/s]"
      ]
     },
     "metadata": {},
     "output_type": "display_data"
    },
    {
     "name": "stderr",
     "output_type": "stream",
     "text": [
      "c:\\Users\\ktrin\\miniconda3\\envs\\tf\\lib\\site-packages\\huggingface_hub\\file_download.py:123: UserWarning: `huggingface_hub` cache-system uses symlinks by default to efficiently store duplicated files but your machine does not support them in C:\\Users\\ktrin\\.cache\\huggingface\\hub. Caching files will still work but in a degraded version that might require more space on your disk. This warning can be disabled by setting the `HF_HUB_DISABLE_SYMLINKS_WARNING` environment variable. For more details, see https://huggingface.co/docs/huggingface_hub/how-to-cache#limitations.\n",
      "To support symlinks on Windows, you either need to activate Developer Mode or to run Python as an administrator. In order to see activate developer mode, see this article: https://docs.microsoft.com/en-us/windows/apps/get-started/enable-your-device-for-development\n",
      "  warnings.warn(message)\n"
     ]
    },
    {
     "data": {
      "application/vnd.jupyter.widget-view+json": {
       "model_id": "52f5bd0ed8fb46b09e3aaf8b549c9d3d",
       "version_major": 2,
       "version_minor": 0
      },
      "text/plain": [
       "Downloading:   0%|          | 0.00/899k [00:00<?, ?B/s]"
      ]
     },
     "metadata": {},
     "output_type": "display_data"
    },
    {
     "data": {
      "application/vnd.jupyter.widget-view+json": {
       "model_id": "3547abdca942407487afd95884882ec5",
       "version_major": 2,
       "version_minor": 0
      },
      "text/plain": [
       "Downloading:   0%|          | 0.00/456k [00:00<?, ?B/s]"
      ]
     },
     "metadata": {},
     "output_type": "display_data"
    },
    {
     "data": {
      "application/vnd.jupyter.widget-view+json": {
       "model_id": "a0903538b3f0499a8c9600566318b0d2",
       "version_major": 2,
       "version_minor": 0
      },
      "text/plain": [
       "Downloading:   0%|          | 0.00/1.43G [00:00<?, ?B/s]"
      ]
     },
     "metadata": {},
     "output_type": "display_data"
    },
    {
     "name": "stderr",
     "output_type": "stream",
     "text": [
      "Some weights of the model checkpoint at roberta-large were not used when initializing RobertaModel: ['lm_head.layer_norm.bias', 'lm_head.bias', 'lm_head.decoder.weight', 'lm_head.dense.bias', 'lm_head.dense.weight', 'lm_head.layer_norm.weight']\n",
      "- This IS expected if you are initializing RobertaModel from the checkpoint of a model trained on another task or with another architecture (e.g. initializing a BertForSequenceClassification model from a BertForPreTraining model).\n",
      "- This IS NOT expected if you are initializing RobertaModel from the checkpoint of a model that you expect to be exactly identical (initializing a BertForSequenceClassification model from a BertForSequenceClassification model).\n"
     ]
    },
    {
     "name": "stdout",
     "output_type": "stream",
     "text": [
      "calculating scores...\n",
      "computing bert embedding.\n"
     ]
    },
    {
     "data": {
      "application/vnd.jupyter.widget-view+json": {
       "model_id": "41d83e25fe7d48cd8affc0a6da24e5c2",
       "version_major": 2,
       "version_minor": 0
      },
      "text/plain": [
       "  0%|          | 0/1 [00:00<?, ?it/s]"
      ]
     },
     "metadata": {},
     "output_type": "display_data"
    },
    {
     "name": "stdout",
     "output_type": "stream",
     "text": [
      "computing greedy matching.\n"
     ]
    },
    {
     "data": {
      "application/vnd.jupyter.widget-view+json": {
       "model_id": "2c83eac712124c8290c11f90802f87d2",
       "version_major": 2,
       "version_minor": 0
      },
      "text/plain": [
       "  0%|          | 0/1 [00:00<?, ?it/s]"
      ]
     },
     "metadata": {},
     "output_type": "display_data"
    },
    {
     "name": "stdout",
     "output_type": "stream",
     "text": [
      "done in 3.47 seconds, 0.29 sentences/sec\n"
     ]
    },
    {
     "data": {
      "text/plain": [
       "tensor([0.9737])"
      ]
     },
     "execution_count": 13,
     "metadata": {},
     "output_type": "execute_result"
    }
   ],
   "source": [
    "from bert_score import score\n",
    "\n",
    "references = [\"This is a test.\"]\n",
    "candidates = [\"This is the test.\"]\n",
    "\n",
    "P, R, F1 = score(candidates, references, lang=\"en\", verbose=True)\n",
    "F1"
   ]
  },
  {
   "cell_type": "markdown",
   "metadata": {},
   "source": []
  }
 ],
 "metadata": {
  "kernelspec": {
   "display_name": "Python 3.9.12 ('tf')",
   "language": "python",
   "name": "python3"
  },
  "language_info": {
   "codemirror_mode": {
    "name": "ipython",
    "version": 3
   },
   "file_extension": ".py",
   "mimetype": "text/x-python",
   "name": "python",
   "nbconvert_exporter": "python",
   "pygments_lexer": "ipython3",
   "version": "3.9.12"
  },
  "orig_nbformat": 4,
  "vscode": {
   "interpreter": {
    "hash": "9845b488047c880b3243e38cff204b64842e109bc52f8ea3e8abc45a8d12589d"
   }
  }
 },
 "nbformat": 4,
 "nbformat_minor": 2
}
